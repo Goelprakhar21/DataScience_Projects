{
 "cells": [
  {
   "cell_type": "markdown",
   "id": "d56fc149",
   "metadata": {},
   "source": [
    "# Building a layer"
   ]
  },
  {
   "cell_type": "markdown",
   "id": "2bd164fa",
   "metadata": {},
   "source": [
    "We are going to use some part of code that we used earlier (Building a neuron) and are going to build up on that.\n",
    "\n",
    "Note: As we are using Np.random, your outputs might differ from me and the outputs here might differ from the last code."
   ]
  },
  {
   "cell_type": "code",
   "execution_count": 1,
   "id": "5bd91e2a",
   "metadata": {},
   "outputs": [],
   "source": [
    "import numpy as np"
   ]
  },
  {
   "cell_type": "code",
   "execution_count": 2,
   "id": "c4e58696",
   "metadata": {},
   "outputs": [],
   "source": [
    "inputs = np.random.rand(5)"
   ]
  },
  {
   "cell_type": "code",
   "execution_count": 3,
   "id": "529ce5f5",
   "metadata": {},
   "outputs": [],
   "source": [
    "weights = np.random.rand(5)"
   ]
  },
  {
   "cell_type": "code",
   "execution_count": 6,
   "id": "a2fad789",
   "metadata": {},
   "outputs": [],
   "source": [
    "bias = np.random.randint(1,10)"
   ]
  },
  {
   "cell_type": "code",
   "execution_count": 7,
   "id": "5db073db",
   "metadata": {},
   "outputs": [
    {
     "data": {
      "text/plain": [
       "(array([0.67567113, 0.69008096, 0.94906868, 0.71968291, 0.73165738]),\n",
       " array([0.65799994, 0.98663877, 0.50991922, 0.81919326, 0.23486747]),\n",
       " 6)"
      ]
     },
     "execution_count": 7,
     "metadata": {},
     "output_type": "execute_result"
    }
   ],
   "source": [
    "inputs, weights, bias"
   ]
  },
  {
   "cell_type": "code",
   "execution_count": 9,
   "id": "fdb6f83e",
   "metadata": {},
   "outputs": [
    {
     "data": {
      "text/plain": [
       "8.370802464517734"
      ]
     },
     "execution_count": 9,
     "metadata": {},
     "output_type": "execute_result"
    }
   ],
   "source": [
    "outputs = inputs[0]*weights[0] + inputs[1]*weights[1] + inputs[2]*weights[2] + inputs[3]*weights[3] + inputs[4]*weights[4] + bias\n",
    "outputs"
   ]
  },
  {
   "cell_type": "markdown",
   "id": "b66dba5e",
   "metadata": {},
   "source": [
    "So if Our layer consists of 4 such neurons then it will have 4 such weights and 4 biases for each neuron."
   ]
  },
  {
   "cell_type": "code",
   "execution_count": 11,
   "id": "5234adda",
   "metadata": {},
   "outputs": [
    {
     "data": {
      "text/plain": [
       "(array([0.81348188, 0.5764507 , 0.50295362, 0.13261031, 0.58376379]),\n",
       " array([0.63404978, 0.80589292, 0.12628487, 0.69934624, 0.29426151]),\n",
       " array([0.31751659, 0.44074705, 0.30782757, 0.83365578, 0.64382636]),\n",
       " array([0.87391208, 0.28516335, 0.28867559, 0.1454441 , 0.0069981 ]))"
      ]
     },
     "execution_count": 11,
     "metadata": {},
     "output_type": "execute_result"
    }
   ],
   "source": [
    "weights1 = np.random.rand(5)\n",
    "weights2 = np.random.rand(5)\n",
    "weights3 = np.random.rand(5)\n",
    "weights4 = np.random.rand(5)\n",
    "weights1, weights2, weights3, weights4"
   ]
  },
  {
   "cell_type": "code",
   "execution_count": 14,
   "id": "0e277b4a",
   "metadata": {},
   "outputs": [
    {
     "data": {
      "text/plain": [
       "(3, 2, 4, 3)"
      ]
     },
     "execution_count": 14,
     "metadata": {},
     "output_type": "execute_result"
    }
   ],
   "source": [
    "bias1 = np.random.randint(1,10)\n",
    "bias2 = np.random.randint(0,5)\n",
    "bias3 = np.random.randint(-2,7)\n",
    "bias4 = np.random.randint(3,14)\n",
    "bias1, bias2, bias3, bias4"
   ]
  },
  {
   "cell_type": "markdown",
   "id": "6c225e04",
   "metadata": {},
   "source": [
    "So now we have 5 inputs which will be going to each neuron, 5 weights per neuron and a bias"
   ]
  },
  {
   "cell_type": "code",
   "execution_count": 16,
   "id": "64c73eb4",
   "metadata": {},
   "outputs": [
    {
     "data": {
      "text/plain": [
       "[4.947333863987419, 3.822999657427269, 5.8818655723522735, 4.171029766333031]"
      ]
     },
     "execution_count": 16,
     "metadata": {},
     "output_type": "execute_result"
    }
   ],
   "source": [
    "output_eachneuron = [inputs[0]*weights1[0] + inputs[1]*weights1[1] + inputs[2]*weights1[2] + inputs[3]*weights1[3] + inputs[4]*weights1[4] + bias1, inputs[0]*weights2[0] + inputs[1]*weights2[1] + inputs[2]*weights2[2] + inputs[3]*weights2[3] + inputs[4]*weights2[4] + bias2, inputs[0]*weights3[0] + inputs[1]*weights3[1] + inputs[2]*weights3[2] + inputs[3]*weights3[3] + inputs[4]*weights3[4] + bias3, inputs[0]*weights4[0] + inputs[1]*weights4[1] + inputs[2]*weights4[2] + inputs[3]*weights4[3] + inputs[4]*weights4[4] + bias4]\n",
    "output_eachneuron"
   ]
  },
  {
   "cell_type": "markdown",
   "id": "07933331",
   "metadata": {},
   "source": [
    "So now we have calculated output of each neuron within our layer, We had 4 neurons in the layer so each neuron will have it's individual output"
   ]
  }
 ],
 "metadata": {
  "kernelspec": {
   "display_name": "Python 3 (ipykernel)",
   "language": "python",
   "name": "python3"
  },
  "language_info": {
   "codemirror_mode": {
    "name": "ipython",
    "version": 3
   },
   "file_extension": ".py",
   "mimetype": "text/x-python",
   "name": "python",
   "nbconvert_exporter": "python",
   "pygments_lexer": "ipython3",
   "version": "3.11.3"
  }
 },
 "nbformat": 4,
 "nbformat_minor": 5
}
