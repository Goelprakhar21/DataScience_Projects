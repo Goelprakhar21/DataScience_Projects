{
 "cells": [
  {
   "cell_type": "markdown",
   "id": "ba2eb072",
   "metadata": {},
   "source": [
    "# Building Neural Network with only Numpy and Math"
   ]
  },
  {
   "cell_type": "markdown",
   "id": "6b94c2bc",
   "metadata": {},
   "source": [
    "Today, we are not going to use any external library to build a neural network but are only going to use Math and Numpy libraries. We are going to use Mnist dataset to classify digits and handwritten images."
   ]
  },
  {
   "cell_type": "code",
   "execution_count": 7,
   "id": "4aca63a6",
   "metadata": {},
   "outputs": [],
   "source": [
    "import pandas as pd\n",
    "import numpy as np\n",
    "from matplotlib import pyplot as plt"
   ]
  },
  {
   "cell_type": "code",
   "execution_count": 8,
   "id": "cd5b626e",
   "metadata": {},
   "outputs": [],
   "source": [
    "data = pd.read_csv(\"C:\\\\Users\\\\goelp\\\\Desktop\\\\Python Projects\\\\Building Neural Network from scratch\\\\digit-recognizer\\\\train.csv\")"
   ]
  },
  {
   "cell_type": "code",
   "execution_count": 11,
   "id": "c46ee19b",
   "metadata": {},
   "outputs": [
    {
     "data": {
      "text/html": [
       "<div>\n",
       "<style scoped>\n",
       "    .dataframe tbody tr th:only-of-type {\n",
       "        vertical-align: middle;\n",
       "    }\n",
       "\n",
       "    .dataframe tbody tr th {\n",
       "        vertical-align: top;\n",
       "    }\n",
       "\n",
       "    .dataframe thead th {\n",
       "        text-align: right;\n",
       "    }\n",
       "</style>\n",
       "<table border=\"1\" class=\"dataframe\">\n",
       "  <thead>\n",
       "    <tr style=\"text-align: right;\">\n",
       "      <th></th>\n",
       "      <th>label</th>\n",
       "      <th>pixel0</th>\n",
       "      <th>pixel1</th>\n",
       "      <th>pixel2</th>\n",
       "      <th>pixel3</th>\n",
       "      <th>pixel4</th>\n",
       "      <th>pixel5</th>\n",
       "      <th>pixel6</th>\n",
       "      <th>pixel7</th>\n",
       "      <th>pixel8</th>\n",
       "      <th>...</th>\n",
       "      <th>pixel774</th>\n",
       "      <th>pixel775</th>\n",
       "      <th>pixel776</th>\n",
       "      <th>pixel777</th>\n",
       "      <th>pixel778</th>\n",
       "      <th>pixel779</th>\n",
       "      <th>pixel780</th>\n",
       "      <th>pixel781</th>\n",
       "      <th>pixel782</th>\n",
       "      <th>pixel783</th>\n",
       "    </tr>\n",
       "  </thead>\n",
       "  <tbody>\n",
       "    <tr>\n",
       "      <th>41995</th>\n",
       "      <td>0</td>\n",
       "      <td>0</td>\n",
       "      <td>0</td>\n",
       "      <td>0</td>\n",
       "      <td>0</td>\n",
       "      <td>0</td>\n",
       "      <td>0</td>\n",
       "      <td>0</td>\n",
       "      <td>0</td>\n",
       "      <td>0</td>\n",
       "      <td>...</td>\n",
       "      <td>0</td>\n",
       "      <td>0</td>\n",
       "      <td>0</td>\n",
       "      <td>0</td>\n",
       "      <td>0</td>\n",
       "      <td>0</td>\n",
       "      <td>0</td>\n",
       "      <td>0</td>\n",
       "      <td>0</td>\n",
       "      <td>0</td>\n",
       "    </tr>\n",
       "    <tr>\n",
       "      <th>41996</th>\n",
       "      <td>1</td>\n",
       "      <td>0</td>\n",
       "      <td>0</td>\n",
       "      <td>0</td>\n",
       "      <td>0</td>\n",
       "      <td>0</td>\n",
       "      <td>0</td>\n",
       "      <td>0</td>\n",
       "      <td>0</td>\n",
       "      <td>0</td>\n",
       "      <td>...</td>\n",
       "      <td>0</td>\n",
       "      <td>0</td>\n",
       "      <td>0</td>\n",
       "      <td>0</td>\n",
       "      <td>0</td>\n",
       "      <td>0</td>\n",
       "      <td>0</td>\n",
       "      <td>0</td>\n",
       "      <td>0</td>\n",
       "      <td>0</td>\n",
       "    </tr>\n",
       "    <tr>\n",
       "      <th>41997</th>\n",
       "      <td>7</td>\n",
       "      <td>0</td>\n",
       "      <td>0</td>\n",
       "      <td>0</td>\n",
       "      <td>0</td>\n",
       "      <td>0</td>\n",
       "      <td>0</td>\n",
       "      <td>0</td>\n",
       "      <td>0</td>\n",
       "      <td>0</td>\n",
       "      <td>...</td>\n",
       "      <td>0</td>\n",
       "      <td>0</td>\n",
       "      <td>0</td>\n",
       "      <td>0</td>\n",
       "      <td>0</td>\n",
       "      <td>0</td>\n",
       "      <td>0</td>\n",
       "      <td>0</td>\n",
       "      <td>0</td>\n",
       "      <td>0</td>\n",
       "    </tr>\n",
       "    <tr>\n",
       "      <th>41998</th>\n",
       "      <td>6</td>\n",
       "      <td>0</td>\n",
       "      <td>0</td>\n",
       "      <td>0</td>\n",
       "      <td>0</td>\n",
       "      <td>0</td>\n",
       "      <td>0</td>\n",
       "      <td>0</td>\n",
       "      <td>0</td>\n",
       "      <td>0</td>\n",
       "      <td>...</td>\n",
       "      <td>0</td>\n",
       "      <td>0</td>\n",
       "      <td>0</td>\n",
       "      <td>0</td>\n",
       "      <td>0</td>\n",
       "      <td>0</td>\n",
       "      <td>0</td>\n",
       "      <td>0</td>\n",
       "      <td>0</td>\n",
       "      <td>0</td>\n",
       "    </tr>\n",
       "    <tr>\n",
       "      <th>41999</th>\n",
       "      <td>9</td>\n",
       "      <td>0</td>\n",
       "      <td>0</td>\n",
       "      <td>0</td>\n",
       "      <td>0</td>\n",
       "      <td>0</td>\n",
       "      <td>0</td>\n",
       "      <td>0</td>\n",
       "      <td>0</td>\n",
       "      <td>0</td>\n",
       "      <td>...</td>\n",
       "      <td>0</td>\n",
       "      <td>0</td>\n",
       "      <td>0</td>\n",
       "      <td>0</td>\n",
       "      <td>0</td>\n",
       "      <td>0</td>\n",
       "      <td>0</td>\n",
       "      <td>0</td>\n",
       "      <td>0</td>\n",
       "      <td>0</td>\n",
       "    </tr>\n",
       "  </tbody>\n",
       "</table>\n",
       "<p>5 rows × 785 columns</p>\n",
       "</div>"
      ],
      "text/plain": [
       "       label  pixel0  pixel1  pixel2  pixel3  pixel4  pixel5  pixel6  pixel7  \\\n",
       "41995      0       0       0       0       0       0       0       0       0   \n",
       "41996      1       0       0       0       0       0       0       0       0   \n",
       "41997      7       0       0       0       0       0       0       0       0   \n",
       "41998      6       0       0       0       0       0       0       0       0   \n",
       "41999      9       0       0       0       0       0       0       0       0   \n",
       "\n",
       "       pixel8  ...  pixel774  pixel775  pixel776  pixel777  pixel778  \\\n",
       "41995       0  ...         0         0         0         0         0   \n",
       "41996       0  ...         0         0         0         0         0   \n",
       "41997       0  ...         0         0         0         0         0   \n",
       "41998       0  ...         0         0         0         0         0   \n",
       "41999       0  ...         0         0         0         0         0   \n",
       "\n",
       "       pixel779  pixel780  pixel781  pixel782  pixel783  \n",
       "41995         0         0         0         0         0  \n",
       "41996         0         0         0         0         0  \n",
       "41997         0         0         0         0         0  \n",
       "41998         0         0         0         0         0  \n",
       "41999         0         0         0         0         0  \n",
       "\n",
       "[5 rows x 785 columns]"
      ]
     },
     "execution_count": 11,
     "metadata": {},
     "output_type": "execute_result"
    }
   ],
   "source": [
    "data.tail()"
   ]
  },
  {
   "cell_type": "code",
   "execution_count": 13,
   "id": "44e19e9d",
   "metadata": {},
   "outputs": [],
   "source": [
    "data = np.array(data)\n",
    "m, n = data.shape\n",
    "np.random.shuffle(data)"
   ]
  },
  {
   "cell_type": "code",
   "execution_count": 57,
   "id": "f68d40d2",
   "metadata": {},
   "outputs": [],
   "source": [
    "data_dev = data[0:1000].T\n",
    "Y_dev = data_dev[0]\n",
    "X_dev = data_dev[1:n]\n",
    "X_dev = X_dev / 255.\n",
    "\n",
    "data_train = data[1000:m].T\n",
    "Y_train = data_train[0]\n",
    "X_train = data_train[1:n]\n",
    "X_train = X_train / 255.\n",
    "_,m_train = X_train.shape"
   ]
  },
  {
   "cell_type": "code",
   "execution_count": 58,
   "id": "ecc1e519",
   "metadata": {},
   "outputs": [
    {
     "data": {
      "text/plain": [
       "(42000, 785, (785, 1000), (785, 41000))"
      ]
     },
     "execution_count": 58,
     "metadata": {},
     "output_type": "execute_result"
    }
   ],
   "source": [
    "m, n, data_dev.shape, data_train.shape"
   ]
  },
  {
   "cell_type": "markdown",
   "id": "10a7f096",
   "metadata": {},
   "source": [
    "## Forward Propogation"
   ]
  },
  {
   "cell_type": "code",
   "execution_count": 69,
   "id": "445a8e53",
   "metadata": {},
   "outputs": [],
   "source": [
    "def init_params():\n",
    "    W1 = np.random.rand(10, 784) - 0.5\n",
    "    b1 = np.random.rand(10, 1) - 0.5\n",
    "    W2 = np.random.rand(10, 10) - 0.5\n",
    "    b2 = np.random.rand(10, 1) - 0.5\n",
    "    return W1, b1, W2, b2"
   ]
  },
  {
   "cell_type": "code",
   "execution_count": 60,
   "id": "cc5f47ec",
   "metadata": {},
   "outputs": [],
   "source": [
    "def ReLU(Z):\n",
    "    return np.maximum(Z, 0)"
   ]
  },
  {
   "cell_type": "code",
   "execution_count": 61,
   "id": "2ee9eac4",
   "metadata": {},
   "outputs": [],
   "source": [
    "def softmax(Z):\n",
    "    A = np.exp(Z) / sum(np.exp(Z))\n",
    "    return A"
   ]
  },
  {
   "cell_type": "code",
   "execution_count": 62,
   "id": "ba86e51f",
   "metadata": {},
   "outputs": [],
   "source": [
    "def forward_prop(W1, b1, W2, b2, X):\n",
    "    Z1 = W1.dot(X) + b1\n",
    "    A1 = ReLU(Z1)\n",
    "    Z2 = W2.dot(A1) + b2\n",
    "    A2 = softmax(Z2)\n",
    "    return Z1, A1, Z2, A2"
   ]
  },
  {
   "cell_type": "markdown",
   "id": "6be9bc9e",
   "metadata": {},
   "source": [
    "## Back Propogation"
   ]
  },
  {
   "cell_type": "code",
   "execution_count": 71,
   "id": "073d0b6e",
   "metadata": {},
   "outputs": [],
   "source": [
    "def one_hot(Y):\n",
    "    one_hot_Y = np.zeros((Y.size, Y.max() + 1))\n",
    "    one_hot_Y[np.arange(Y.size), Y] = 1\n",
    "    one_hot_Y = one_hot_Y.T\n",
    "    return one_hot_Y"
   ]
  },
  {
   "cell_type": "code",
   "execution_count": 64,
   "id": "3b0c55f1",
   "metadata": {},
   "outputs": [],
   "source": [
    "def ReLU_deriv(Z):\n",
    "    return Z > 0"
   ]
  },
  {
   "cell_type": "code",
   "execution_count": 65,
   "id": "24beb5c4",
   "metadata": {},
   "outputs": [],
   "source": [
    "def backward_prop(Z1, A1, Z2, A2, W1, W2, X, Y):\n",
    "    one_hot_Y = one_hot(Y)\n",
    "    dZ2 = A2 - one_hot_Y\n",
    "    dW2 = 1 / m * dZ2.dot(A1.T)\n",
    "    db2 = 1 / m * np.sum(dZ2)\n",
    "    dZ1 = W2.T.dot(dZ2) * ReLU_deriv(Z1)\n",
    "    dW1 = 1 / m * dZ1.dot(X.T)\n",
    "    db1 = 1 / m * np.sum(dZ1)\n",
    "    return dW1, db1, dW2, db2"
   ]
  },
  {
   "cell_type": "code",
   "execution_count": 66,
   "id": "a65a208c",
   "metadata": {},
   "outputs": [],
   "source": [
    "def update_params(W1, b1, W2, b2, dW1, db1, dW2, db2, alpha):\n",
    "    W1 = W1 - alpha * dW1\n",
    "    b1 = b1 - alpha * db1    \n",
    "    W2 = W2 - alpha * dW2  \n",
    "    b2 = b2 - alpha * db2    \n",
    "    return W1, b1, W2, b2"
   ]
  },
  {
   "cell_type": "code",
   "execution_count": 67,
   "id": "09a45fa6",
   "metadata": {},
   "outputs": [],
   "source": [
    "def get_predictions(A2):\n",
    "    return np.argmax(A2, 0)\n",
    "\n",
    "def get_accuracy(predictions, Y):\n",
    "    print(predictions, Y)\n",
    "    return np.sum(predictions == Y) / Y.size\n",
    "\n",
    "def gradient_descent(X, Y, alpha, iterations):\n",
    "    W1, b1, W2, b2 = init_params()\n",
    "    for i in range(iterations):\n",
    "        Z1, A1, Z2, A2 = forward_prop(W1, b1, W2, b2, X)\n",
    "        dW1, db1, dW2, db2 = backward_prop(Z1, A1, Z2, A2, W1, W2, X, Y)\n",
    "        W1, b1, W2, b2 = update_params(W1, b1, W2, b2, dW1, db1, dW2, db2, alpha)\n",
    "        if i % 10 == 0:\n",
    "            print(\"Iteration: \", i)\n",
    "            predictions = get_predictions(A2)\n",
    "            print(get_accuracy(predictions, Y))\n",
    "    return W1, b1, W2, b2"
   ]
  },
  {
   "cell_type": "code",
   "execution_count": 72,
   "id": "e3494c61",
   "metadata": {},
   "outputs": [
    {
     "name": "stdout",
     "output_type": "stream",
     "text": [
      "Iteration:  0\n",
      "[5 1 7 ... 1 1 5] [4 8 5 ... 1 5 4]\n",
      "0.12926829268292683\n",
      "Iteration:  10\n",
      "[5 1 3 ... 1 1 5] [4 8 5 ... 1 5 4]\n",
      "0.19821951219512196\n",
      "Iteration:  20\n",
      "[4 1 7 ... 1 1 4] [4 8 5 ... 1 5 4]\n",
      "0.23375609756097562\n",
      "Iteration:  30\n",
      "[4 1 7 ... 1 1 4] [4 8 5 ... 1 5 4]\n",
      "0.2671707317073171\n",
      "Iteration:  40\n",
      "[4 1 7 ... 1 1 4] [4 8 5 ... 1 5 4]\n",
      "0.30234146341463414\n",
      "Iteration:  50\n",
      "[5 1 7 ... 1 1 5] [4 8 5 ... 1 5 4]\n",
      "0.3317560975609756\n",
      "Iteration:  60\n",
      "[5 1 7 ... 1 1 5] [4 8 5 ... 1 5 4]\n",
      "0.3608780487804878\n",
      "Iteration:  70\n",
      "[5 1 7 ... 1 1 5] [4 8 5 ... 1 5 4]\n",
      "0.3893170731707317\n",
      "Iteration:  80\n",
      "[5 1 7 ... 1 1 5] [4 8 5 ... 1 5 4]\n",
      "0.41280487804878047\n",
      "Iteration:  90\n",
      "[5 1 7 ... 1 1 5] [4 8 5 ... 1 5 4]\n",
      "0.4351219512195122\n",
      "Iteration:  100\n",
      "[5 1 7 ... 1 1 4] [4 8 5 ... 1 5 4]\n",
      "0.4632439024390244\n",
      "Iteration:  110\n",
      "[4 1 7 ... 1 1 4] [4 8 5 ... 1 5 4]\n",
      "0.508609756097561\n",
      "Iteration:  120\n",
      "[4 8 7 ... 1 1 4] [4 8 5 ... 1 5 4]\n",
      "0.543609756097561\n",
      "Iteration:  130\n",
      "[4 8 7 ... 1 6 4] [4 8 5 ... 1 5 4]\n",
      "0.5727560975609756\n",
      "Iteration:  140\n",
      "[4 8 7 ... 1 6 4] [4 8 5 ... 1 5 4]\n",
      "0.6007073170731707\n",
      "Iteration:  150\n",
      "[4 8 7 ... 1 6 4] [4 8 5 ... 1 5 4]\n",
      "0.6291219512195122\n",
      "Iteration:  160\n",
      "[4 8 3 ... 1 6 4] [4 8 5 ... 1 5 4]\n",
      "0.657\n",
      "Iteration:  170\n",
      "[4 8 3 ... 1 6 4] [4 8 5 ... 1 5 4]\n",
      "0.6809268292682927\n",
      "Iteration:  180\n",
      "[4 8 3 ... 1 6 4] [4 8 5 ... 1 5 4]\n",
      "0.6990731707317073\n",
      "Iteration:  190\n",
      "[4 8 3 ... 1 6 4] [4 8 5 ... 1 5 4]\n",
      "0.7131951219512195\n",
      "Iteration:  200\n",
      "[4 8 3 ... 1 6 4] [4 8 5 ... 1 5 4]\n",
      "0.724390243902439\n",
      "Iteration:  210\n",
      "[4 8 3 ... 1 6 4] [4 8 5 ... 1 5 4]\n",
      "0.7354634146341463\n",
      "Iteration:  220\n",
      "[4 8 3 ... 1 6 4] [4 8 5 ... 1 5 4]\n",
      "0.744\n",
      "Iteration:  230\n",
      "[4 8 3 ... 1 6 4] [4 8 5 ... 1 5 4]\n",
      "0.7521707317073171\n",
      "Iteration:  240\n",
      "[4 8 3 ... 1 6 4] [4 8 5 ... 1 5 4]\n",
      "0.7582926829268293\n",
      "Iteration:  250\n",
      "[4 8 3 ... 1 6 4] [4 8 5 ... 1 5 4]\n",
      "0.7645365853658537\n",
      "Iteration:  260\n",
      "[4 8 3 ... 1 6 4] [4 8 5 ... 1 5 4]\n",
      "0.7697073170731707\n",
      "Iteration:  270\n",
      "[4 8 3 ... 1 6 4] [4 8 5 ... 1 5 4]\n",
      "0.7753170731707317\n",
      "Iteration:  280\n",
      "[4 8 3 ... 1 6 4] [4 8 5 ... 1 5 4]\n",
      "0.7799512195121951\n",
      "Iteration:  290\n",
      "[4 8 3 ... 1 6 4] [4 8 5 ... 1 5 4]\n",
      "0.7846829268292683\n",
      "Iteration:  300\n",
      "[4 8 3 ... 1 6 4] [4 8 5 ... 1 5 4]\n",
      "0.7888780487804878\n",
      "Iteration:  310\n",
      "[4 8 3 ... 1 6 4] [4 8 5 ... 1 5 4]\n",
      "0.7921707317073171\n",
      "Iteration:  320\n",
      "[4 8 3 ... 1 6 4] [4 8 5 ... 1 5 4]\n",
      "0.7954146341463415\n",
      "Iteration:  330\n",
      "[4 8 3 ... 1 6 4] [4 8 5 ... 1 5 4]\n",
      "0.798609756097561\n",
      "Iteration:  340\n",
      "[4 8 3 ... 1 6 4] [4 8 5 ... 1 5 4]\n",
      "0.802219512195122\n",
      "Iteration:  350\n",
      "[4 8 3 ... 1 6 4] [4 8 5 ... 1 5 4]\n",
      "0.8047804878048781\n",
      "Iteration:  360\n",
      "[4 8 3 ... 1 6 4] [4 8 5 ... 1 5 4]\n",
      "0.8078048780487805\n",
      "Iteration:  370\n",
      "[4 8 3 ... 1 6 4] [4 8 5 ... 1 5 4]\n",
      "0.8103658536585366\n",
      "Iteration:  380\n",
      "[4 8 3 ... 1 6 4] [4 8 5 ... 1 5 4]\n",
      "0.8127073170731707\n",
      "Iteration:  390\n",
      "[4 8 3 ... 1 6 4] [4 8 5 ... 1 5 4]\n",
      "0.8154146341463414\n",
      "Iteration:  400\n",
      "[4 8 3 ... 1 6 4] [4 8 5 ... 1 5 4]\n",
      "0.8176341463414634\n",
      "Iteration:  410\n",
      "[4 8 3 ... 1 6 4] [4 8 5 ... 1 5 4]\n",
      "0.8197073170731707\n",
      "Iteration:  420\n",
      "[4 8 3 ... 1 6 4] [4 8 5 ... 1 5 4]\n",
      "0.8221219512195121\n",
      "Iteration:  430\n",
      "[4 8 3 ... 1 6 4] [4 8 5 ... 1 5 4]\n",
      "0.8244390243902439\n",
      "Iteration:  440\n",
      "[4 8 3 ... 1 6 4] [4 8 5 ... 1 5 4]\n",
      "0.8264146341463414\n",
      "Iteration:  450\n",
      "[4 8 3 ... 1 6 4] [4 8 5 ... 1 5 4]\n",
      "0.8279268292682926\n",
      "Iteration:  460\n",
      "[4 8 3 ... 1 6 4] [4 8 5 ... 1 5 4]\n",
      "0.8299512195121951\n",
      "Iteration:  470\n",
      "[4 8 3 ... 1 6 4] [4 8 5 ... 1 5 4]\n",
      "0.8314146341463414\n",
      "Iteration:  480\n",
      "[4 8 3 ... 1 6 4] [4 8 5 ... 1 5 4]\n",
      "0.8328292682926829\n",
      "Iteration:  490\n",
      "[4 8 3 ... 1 6 4] [4 8 5 ... 1 5 4]\n",
      "0.8345853658536585\n",
      "Iteration:  500\n",
      "[4 8 3 ... 1 6 4] [4 8 5 ... 1 5 4]\n",
      "0.8359756097560975\n",
      "Iteration:  510\n",
      "[4 8 3 ... 1 6 4] [4 8 5 ... 1 5 4]\n",
      "0.8374146341463414\n",
      "Iteration:  520\n",
      "[4 8 3 ... 1 6 4] [4 8 5 ... 1 5 4]\n",
      "0.8389756097560975\n",
      "Iteration:  530\n",
      "[4 8 3 ... 1 6 4] [4 8 5 ... 1 5 4]\n",
      "0.8408536585365853\n",
      "Iteration:  540\n",
      "[4 8 3 ... 1 6 4] [4 8 5 ... 1 5 4]\n",
      "0.841780487804878\n",
      "Iteration:  550\n",
      "[4 8 3 ... 1 6 4] [4 8 5 ... 1 5 4]\n",
      "0.8429512195121951\n",
      "Iteration:  560\n",
      "[4 8 3 ... 1 6 4] [4 8 5 ... 1 5 4]\n",
      "0.8441463414634146\n",
      "Iteration:  570\n",
      "[4 8 3 ... 1 6 4] [4 8 5 ... 1 5 4]\n",
      "0.8455121951219512\n",
      "Iteration:  580\n",
      "[4 8 3 ... 1 6 4] [4 8 5 ... 1 5 4]\n",
      "0.8465365853658536\n",
      "Iteration:  590\n",
      "[4 8 3 ... 1 6 4] [4 8 5 ... 1 5 4]\n",
      "0.8476585365853658\n",
      "Iteration:  600\n",
      "[4 8 3 ... 1 6 4] [4 8 5 ... 1 5 4]\n",
      "0.8488048780487805\n",
      "Iteration:  610\n",
      "[4 8 3 ... 1 6 4] [4 8 5 ... 1 5 4]\n",
      "0.85\n",
      "Iteration:  620\n",
      "[4 8 3 ... 1 6 4] [4 8 5 ... 1 5 4]\n",
      "0.851\n",
      "Iteration:  630\n",
      "[4 8 3 ... 1 6 4] [4 8 5 ... 1 5 4]\n",
      "0.8522195121951219\n",
      "Iteration:  640\n",
      "[4 8 3 ... 1 6 4] [4 8 5 ... 1 5 4]\n",
      "0.8529512195121951\n",
      "Iteration:  650\n",
      "[4 8 3 ... 1 6 4] [4 8 5 ... 1 5 4]\n",
      "0.8540731707317073\n",
      "Iteration:  660\n",
      "[4 8 3 ... 1 6 4] [4 8 5 ... 1 5 4]\n",
      "0.8549756097560975\n",
      "Iteration:  670\n",
      "[4 8 5 ... 1 6 4] [4 8 5 ... 1 5 4]\n",
      "0.8558536585365853\n",
      "Iteration:  680\n",
      "[4 8 5 ... 1 6 4] [4 8 5 ... 1 5 4]\n",
      "0.8571951219512195\n",
      "Iteration:  690\n",
      "[4 8 5 ... 1 6 4] [4 8 5 ... 1 5 4]\n",
      "0.8581219512195122\n"
     ]
    }
   ],
   "source": [
    "W1, b1, W2, b2 = gradient_descent(X_train, Y_train, 0.1, 700)"
   ]
  },
  {
   "cell_type": "code",
   "execution_count": 73,
   "id": "82ae78ac",
   "metadata": {},
   "outputs": [],
   "source": [
    "def make_predictions(X, W1, b1, W2, b2):\n",
    "    _, _, _, A2 = forward_prop(W1, b1, W2, b2, X)\n",
    "    predictions = get_predictions(A2)\n",
    "    return predictions\n",
    "\n",
    "def test_prediction(index, W1, b1, W2, b2):\n",
    "    current_image = X_train[:, index, None]\n",
    "    prediction = make_predictions(X_train[:, index, None], W1, b1, W2, b2)\n",
    "    label = Y_train[index]\n",
    "    print(\"Prediction: \", prediction)\n",
    "    print(\"Label: \", label)\n",
    "    \n",
    "    current_image = current_image.reshape((28, 28)) * 255\n",
    "    plt.gray()\n",
    "    plt.imshow(current_image, interpolation='nearest')\n",
    "    plt.show()"
   ]
  },
  {
   "cell_type": "code",
   "execution_count": 74,
   "id": "cee14d73",
   "metadata": {},
   "outputs": [
    {
     "name": "stdout",
     "output_type": "stream",
     "text": [
      "Prediction:  [4]\n",
      "Label:  4\n"
     ]
    },
    {
     "data": {
      "image/png": "[encoded data removed]",
      "text/plain": [
       "<Figure size 640x480 with 1 Axes>"
      ]
     },
     "metadata": {},
     "output_type": "display_data"
    },
    {
     "name": "stdout",
     "output_type": "stream",
     "text": [
      "Prediction:  [8]\n",
      "Label:  8\n"
     ]
    },
    {
     "data": {
      "image/png": "[encoded data removed]",
      "text/plain": [
       "<Figure size 640x480 with 1 Axes>"
      ]
     },
     "metadata": {},
     "output_type": "display_data"
    },
    {
     "name": "stdout",
     "output_type": "stream",
     "text": [
      "Prediction:  [5]\n",
      "Label:  5\n"
     ]
    },
    {
     "data": {
      "image/png": "[encoded data removed]",
      "text/plain": [
       "<Figure size 640x480 with 1 Axes>"
      ]
     },
     "metadata": {},
     "output_type": "display_data"
    },
    {
     "name": "stdout",
     "output_type": "stream",
     "text": [
      "Prediction:  [8]\n",
      "Label:  8\n"
     ]
    },
    {
     "data": {
      "image/png": "[encoded data removed]",
      "text/plain": [
       "<Figure size 640x480 with 1 Axes>"
      ]
     },
     "metadata": {},
     "output_type": "display_data"
    }
   ],
   "source": [
    "test_prediction(0, W1, b1, W2, b2)\n",
    "test_prediction(1, W1, b1, W2, b2)\n",
    "test_prediction(2, W1, b1, W2, b2)\n",
    "test_prediction(3, W1, b1, W2, b2)"
   ]
  },
  {
   "cell_type": "code",
   "execution_count": 75,
   "id": "1be6e139",
   "metadata": {},
   "outputs": [
    {
     "name": "stdout",
     "output_type": "stream",
     "text": [
      "[5 9 8 0 4 9 6 0 0 9 8 4 1 4 5 9 7 4 7 3 4 0 3 4 4 0 9 5 3 5 4 7 0 8 3 9 1\n",
      " 2 5 5 7 0 8 3 3 6 4 5 8 1 6 3 9 1 7 1 5 8 3 8 6 3 6 1 2 9 1 1 9 8 6 8 7 8\n",
      " 0 6 4 7 6 2 5 3 6 4 3 2 1 6 2 6 5 7 3 9 3 2 3 9 6 8 6 5 1 1 3 9 0 3 7 8 7\n",
      " 5 9 8 4 7 7 4 4 1 6 1 3 7 4 5 8 7 6 8 8 5 2 4 6 0 8 9 5 0 2 9 3 7 1 7 0 3\n",
      " 6 1 7 7 5 7 8 5 1 5 3 1 7 2 3 7 8 4 5 2 9 2 4 8 5 6 5 0 9 8 8 7 5 2 3 1 5\n",
      " 8 1 1 0 9 2 5 8 6 8 0 3 2 8 2 0 4 0 8 1 8 3 8 1 3 4 2 7 1 6 7 5 6 0 9 6 8\n",
      " 9 2 8 4 6 6 8 4 3 8 8 2 0 4 2 7 8 1 5 2 6 4 8 2 1 4 2 7 1 2 9 3 6 9 7 6 0\n",
      " 1 7 3 9 4 3 2 6 6 8 4 9 2 6 8 1 5 4 4 2 9 9 3 3 3 9 9 9 7 6 6 1 2 6 3 8 7\n",
      " 9 1 3 2 5 7 1 5 4 9 5 2 7 9 0 9 1 5 2 3 0 9 7 2 4 5 1 3 6 2 6 7 3 1 8 4 7\n",
      " 7 1 7 6 7 9 9 4 1 5 5 4 8 9 7 3 3 4 2 5 4 3 7 1 1 5 4 1 9 8 6 6 3 9 4 7 8\n",
      " 4 5 2 3 5 3 4 3 8 5 8 9 0 4 6 1 5 5 2 6 3 5 9 7 9 4 7 3 9 9 5 0 5 2 0 4 9\n",
      " 7 1 6 8 3 4 2 0 0 4 3 5 2 8 9 1 5 3 3 4 7 7 3 4 1 7 6 8 4 0 2 0 1 7 4 1 3\n",
      " 6 0 2 0 0 6 3 1 5 5 4 2 2 9 8 4 6 0 7 7 6 6 7 7 9 3 0 4 9 1 4 8 0 2 6 8 8\n",
      " 8 6 7 3 5 4 0 9 0 8 6 7 6 7 2 1 9 4 8 4 3 5 4 8 6 6 5 7 8 3 7 1 9 9 3 2 5\n",
      " 7 6 4 4 3 7 1 5 2 4 5 8 1 7 6 5 7 6 3 0 7 2 9 7 3 3 8 0 4 6 2 6 2 4 4 0 8\n",
      " 0 4 4 7 9 7 2 3 9 7 5 8 1 1 2 2 2 6 4 0 7 8 7 8 4 1 9 8 9 8 9 5 4 0 5 9 2\n",
      " 4 4 6 3 0 4 7 7 3 4 1 2 6 6 6 1 4 6 6 6 2 4 2 1 7 0 4 4 7 9 1 1 8 9 5 2 3\n",
      " 5 8 1 9 6 7 4 1 6 6 7 8 5 1 5 7 4 2 0 6 2 3 8 1 9 1 1 7 9 8 2 9 8 7 7 3 9\n",
      " 5 3 1 5 5 5 6 2 1 1 3 2 9 2 9 6 6 3 3 2 7 7 4 2 8 1 0 9 1 4 8 9 3 9 8 2 2\n",
      " 8 0 5 6 0 5 0 2 5 8 6 3 3 7 8 6 4 2 7 9 9 9 3 0 4 7 8 2 3 6 9 5 7 8 6 2 9\n",
      " 7 1 9 4 9 6 0 1 6 8 1 7 0 6 1 8 4 0 1 8 5 6 2 9 1 5 5 8 0 1 1 1 0 1 3 1 2\n",
      " 1 5 1 6 8 5 6 3 7 7 4 7 3 1 6 7 3 2 9 6 8 1 6 2 1 2 5 5 3 7 8 9 7 3 1 8 0\n",
      " 5 3 9 7 6 6 3 9 6 9 7 2 2 3 9 6 1 0 4 9 9 7 9 2 7 0 0 2 5 3 8 9 4 9 2 9 7\n",
      " 1 5 1 9 5 6 2 4 7 8 2 6 2 6 0 8 9 3 5 3 6 1 4 3 3 7 2 0 8 2 8 1 9 7 0 9 8\n",
      " 9 5 3 3 0 1 8 2 0 3 8 9 4 1 4 9 6 7 5 7 0 9 4 3 7 3 7 7 3 8 5 3 8 2 4 4 0\n",
      " 4 9 4 8 7 4 8 7 4 1 8 4 4 5 9 9 8 0 8 6 3 7 0 8 7 8 0 7 8 8 7 3 8 7 2 8 1\n",
      " 1 3 2 4 0 3 5 7 6 1 3 2 0 5 8 2 9 7 0 1 7 7 1 0 0 3 6 1 3 8 0 7 7 2 4 2 6\n",
      " 4] [5 9 7 0 9 9 4 0 0 9 8 4 1 4 5 4 7 4 7 3 4 0 2 4 8 0 3 5 8 5 4 9 0 8 3 9 1\n",
      " 2 5 1 7 0 8 3 5 2 4 5 8 1 3 3 9 1 7 1 5 8 3 8 6 5 6 1 2 9 9 1 9 8 6 8 7 8\n",
      " 0 6 4 7 6 2 5 3 6 4 3 2 1 6 2 6 5 7 3 7 3 8 9 8 6 8 6 5 1 1 5 7 0 8 7 8 8\n",
      " 8 4 8 9 7 7 4 4 3 6 1 2 7 4 5 3 2 6 8 8 5 2 4 6 0 8 9 5 0 2 9 5 2 1 7 3 3\n",
      " 6 1 7 7 5 7 8 5 1 5 3 1 7 2 5 7 8 4 5 2 9 2 4 8 5 4 3 0 9 8 8 7 5 2 3 1 5\n",
      " 8 1 1 0 9 2 5 8 6 8 0 3 2 8 2 0 4 0 8 1 8 3 8 1 8 4 2 7 1 6 7 3 6 0 7 6 8\n",
      " 9 2 8 4 6 6 8 4 3 8 8 2 3 9 2 9 8 1 5 2 6 4 8 2 1 6 2 7 1 2 4 3 6 9 9 6 0\n",
      " 1 7 3 9 4 5 2 3 6 8 4 9 3 6 8 1 5 4 4 2 4 9 3 2 3 9 9 9 9 4 6 1 2 6 3 3 2\n",
      " 9 1 3 2 5 7 1 8 4 9 5 3 7 9 0 9 1 5 2 5 0 9 7 2 7 6 1 3 6 2 6 9 3 1 8 4 7\n",
      " 7 1 7 6 7 7 9 4 1 5 3 4 8 9 7 3 3 4 2 5 4 5 8 1 1 5 4 1 9 8 6 6 3 9 8 7 8\n",
      " 4 5 2 3 5 3 4 3 8 5 8 4 2 4 6 1 5 1 7 2 3 5 9 7 9 4 7 5 9 9 8 0 5 2 0 4 9\n",
      " 7 1 4 5 3 5 2 0 0 4 3 3 8 8 9 1 5 3 5 4 7 9 3 4 1 7 6 0 4 0 2 0 1 7 4 1 3\n",
      " 6 0 2 0 0 6 3 1 3 5 0 2 2 9 8 4 4 0 3 7 6 6 7 7 9 3 5 9 9 1 4 8 0 2 6 8 8\n",
      " 8 6 7 3 5 4 0 9 0 8 6 7 6 7 1 1 4 4 8 4 3 5 4 8 6 6 9 7 8 3 7 1 9 9 3 2 5\n",
      " 7 6 9 4 3 7 1 5 2 4 3 8 1 7 6 5 7 6 3 0 7 2 9 7 2 3 8 0 4 6 2 6 2 4 4 0 8\n",
      " 0 2 4 7 9 7 2 5 9 7 5 8 1 1 2 2 2 4 4 0 7 8 7 0 4 1 9 8 9 8 9 5 4 0 5 9 2\n",
      " 6 4 4 3 0 4 7 7 3 4 1 2 6 6 6 1 6 2 6 6 2 4 3 1 7 0 4 4 7 9 1 1 8 4 5 2 3\n",
      " 8 8 1 9 6 7 4 1 6 6 7 8 5 1 5 7 5 2 0 6 2 3 3 1 7 1 1 7 3 8 5 9 8 7 7 3 7\n",
      " 5 3 1 5 5 8 6 2 1 8 8 8 9 2 9 6 6 8 3 2 9 7 4 2 7 1 0 9 1 4 8 7 3 7 8 2 2\n",
      " 8 0 5 6 0 5 0 2 5 8 6 3 3 7 8 6 4 2 9 4 9 3 3 0 4 2 8 2 3 6 9 3 7 8 6 2 9\n",
      " 2 1 9 4 9 4 0 1 6 8 1 7 0 6 1 8 9 0 1 8 5 6 3 9 1 5 5 8 0 1 1 1 0 1 3 1 2\n",
      " 1 5 1 6 8 5 6 3 7 7 7 7 3 1 6 7 3 2 9 6 8 1 4 2 1 2 2 5 3 7 4 9 7 3 1 8 0\n",
      " 5 5 9 7 6 6 3 4 5 9 7 2 2 3 9 6 1 6 4 9 9 7 8 2 7 0 0 2 8 3 8 9 4 9 1 9 7\n",
      " 1 5 1 9 9 6 2 9 7 8 2 6 2 4 0 8 5 3 5 3 6 1 4 3 7 9 2 0 8 2 3 1 9 7 0 9 8\n",
      " 9 5 3 1 2 1 8 2 0 3 8 9 4 1 4 5 6 7 5 7 0 7 4 3 7 3 7 7 9 8 5 3 8 2 3 4 0\n",
      " 4 9 4 8 7 4 8 6 4 1 8 4 4 5 7 9 8 0 8 6 3 7 0 8 7 8 0 7 8 8 7 3 9 7 2 8 2\n",
      " 8 3 2 4 0 3 8 7 6 8 3 2 0 5 8 2 9 7 0 1 7 7 1 0 5 3 5 1 3 8 0 7 7 2 4 2 6\n",
      " 9]\n"
     ]
    },
    {
     "data": {
      "text/plain": [
       "0.839"
      ]
     },
     "execution_count": 75,
     "metadata": {},
     "output_type": "execute_result"
    }
   ],
   "source": [
    "dev_predictions = make_predictions(X_dev, W1, b1, W2, b2)\n",
    "get_accuracy(dev_predictions, Y_dev)"
   ]
  },
  {
   "cell_type": "code",
   "execution_count": null,
   "id": "e34f35ff",
   "metadata": {},
   "outputs": [],
   "source": []
  }
 ],
 "metadata": {
  "kernelspec": {
   "display_name": "Python 3 (ipykernel)",
   "language": "python",
   "name": "python3"
  },
  "language_info": {
   "codemirror_mode": {
    "name": "ipython",
    "version": 3
   },
   "file_extension": ".py",
   "mimetype": "text/x-python",
   "name": "python",
   "nbconvert_exporter": "python",
   "pygments_lexer": "ipython3",
   "version": "3.11.3"
  }
 },
 "nbformat": 4,
 "nbformat_minor": 5
}
