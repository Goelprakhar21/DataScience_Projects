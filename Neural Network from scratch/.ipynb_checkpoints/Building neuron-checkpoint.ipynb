{
 "cells": [
  {
   "cell_type": "markdown",
   "id": "c393f805",
   "metadata": {},
   "source": [
    "# Building a neuron"
   ]
  },
  {
   "cell_type": "markdown",
   "id": "4f482096",
   "metadata": {},
   "source": [
    "The neuron which we are going to code, can be situated anywhere in densely connected neural network."
   ]
  },
  {
   "cell_type": "code",
   "execution_count": 14,
   "id": "dc4f45cd",
   "metadata": {},
   "outputs": [],
   "source": [
    "import numpy as np"
   ]
  },
  {
   "cell_type": "markdown",
   "id": "fbdfdc85",
   "metadata": {},
   "source": [
    "So a neuron consists of 3 components\n",
    "1. Input (can be from input layer or from previous layer)\n",
    "2. Weight\n",
    "3. Bias"
   ]
  },
  {
   "cell_type": "markdown",
   "id": "7bde107d",
   "metadata": {},
   "source": [
    "We are going to define random 5 integers using Numpy as inputs for our neuron"
   ]
  },
  {
   "cell_type": "code",
   "execution_count": 6,
   "id": "ab47237d",
   "metadata": {},
   "outputs": [
    {
     "data": {
      "text/plain": [
       "array([0.41597823, 0.52815409, 0.83809501, 0.45709998, 0.21472553])"
      ]
     },
     "execution_count": 6,
     "metadata": {},
     "output_type": "execute_result"
    }
   ],
   "source": [
    "inputs = np.random.rand(5)\n",
    "inputs"
   ]
  },
  {
   "cell_type": "markdown",
   "id": "b43147ac",
   "metadata": {},
   "source": [
    "We are now going to assign weights to each of the input"
   ]
  },
  {
   "cell_type": "code",
   "execution_count": 7,
   "id": "0fba7af8",
   "metadata": {},
   "outputs": [
    {
     "data": {
      "text/plain": [
       "array([0.90367747, 0.57392396, 0.96851696, 0.87566869, 0.91314422])"
      ]
     },
     "execution_count": 7,
     "metadata": {},
     "output_type": "execute_result"
    }
   ],
   "source": [
    "weights = np.random.rand(5)\n",
    "weights"
   ]
  },
  {
   "cell_type": "markdown",
   "id": "774c9516",
   "metadata": {},
   "source": [
    "We are now going to assign bias to the neuron"
   ]
  },
  {
   "cell_type": "code",
   "execution_count": 19,
   "id": "65cf4863",
   "metadata": {},
   "outputs": [
    {
     "data": {
      "text/plain": [
       "7"
      ]
     },
     "execution_count": 19,
     "metadata": {},
     "output_type": "execute_result"
    }
   ],
   "source": [
    "bias = np.random.randint(1,10)\n",
    "bias"
   ]
  },
  {
   "cell_type": "markdown",
   "id": "f95d512d",
   "metadata": {},
   "source": [
    "Output to a neuron is calculated as Multiplying inputs with the respective weights and adding bias of the neuron."
   ]
  },
  {
   "cell_type": "code",
   "execution_count": 20,
   "id": "7514b4b0",
   "metadata": {},
   "outputs": [
    {
     "data": {
      "text/plain": [
       "9.087083187356653"
      ]
     },
     "execution_count": 20,
     "metadata": {},
     "output_type": "execute_result"
    }
   ],
   "source": [
    "outputs = inputs[0]*weights[0] + inputs[1]*weights[1] + inputs[2]*weights[2] + inputs[3]*weights[3] + inputs[4]*weights[4] + bias\n",
    "outputs"
   ]
  }
 ],
 "metadata": {
  "kernelspec": {
   "display_name": "Python 3 (ipykernel)",
   "language": "python",
   "name": "python3"
  },
  "language_info": {
   "codemirror_mode": {
    "name": "ipython",
    "version": 3
   },
   "file_extension": ".py",
   "mimetype": "text/x-python",
   "name": "python",
   "nbconvert_exporter": "python",
   "pygments_lexer": "ipython3",
   "version": "3.11.3"
  }
 },
 "nbformat": 4,
 "nbformat_minor": 5
}
