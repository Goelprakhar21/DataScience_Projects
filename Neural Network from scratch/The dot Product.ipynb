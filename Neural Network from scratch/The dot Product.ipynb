{
 "cells": [
  {
   "cell_type": "markdown",
   "id": "431ae6b0",
   "metadata": {},
   "source": [
    "# The Dot Product"
   ]
  },
  {
   "cell_type": "markdown",
   "id": "a21c4acc",
   "metadata": {},
   "source": [
    "In our previous code(Building a layer), We used different values of weights (weight1, weight2, weight3, weight4) and biases (bias1, bias2, bias3, bias4) to calculate outputs of the neurons.\n",
    "\n",
    "But in real life problems, where we have lots of inputs to the neuron, performing calculations would be time consuming.\n",
    "So to solve that problem, We use Matrix vectorisation."
   ]
  },
  {
   "cell_type": "markdown",
   "id": "fd987d56",
   "metadata": {},
   "source": [
    "To show the time complexity problem, We are going to take 10,000,000 inputs, 10,000,000 weights for each input and a bias for 1 neuron, to calculate output, both through the normal method and the dot product method."
   ]
  },
  {
   "cell_type": "code",
   "execution_count": 1,
   "id": "a15328a6",
   "metadata": {},
   "outputs": [],
   "source": [
    "import numpy as np\n",
    "import time"
   ]
  },
  {
   "cell_type": "code",
   "execution_count": 2,
   "id": "255d3bf2",
   "metadata": {},
   "outputs": [
    {
     "data": {
      "text/plain": [
       "array([0.37241183, 0.95581964, 0.10367458, ..., 0.94218186, 0.71572132,\n",
       "       0.13679961])"
      ]
     },
     "execution_count": 2,
     "metadata": {},
     "output_type": "execute_result"
    }
   ],
   "source": [
    "inputs = np.random.rand(10000)\n",
    "inputs"
   ]
  },
  {
   "cell_type": "code",
   "execution_count": 3,
   "id": "03ee2bbe",
   "metadata": {},
   "outputs": [
    {
     "data": {
      "text/plain": [
       "(array([0.89423966, 0.40716338, 0.6093869 , ..., 0.53936526, 0.25645428,\n",
       "        0.5277818 ]),\n",
       " 19)"
      ]
     },
     "execution_count": 3,
     "metadata": {},
     "output_type": "execute_result"
    }
   ],
   "source": [
    "weights = np.random.rand(10000)\n",
    "bias = np.random.randint(1,20)\n",
    "weights, bias"
   ]
  },
  {
   "cell_type": "code",
   "execution_count": 4,
   "id": "ae0752d6",
   "metadata": {},
   "outputs": [],
   "source": [
    "def weighted_sum(inputs, weights, biases):\n",
    "    output_eachneuron = []\n",
    "\n",
    "    for i in range(len(weights)):\n",
    "        for j in range(len(inputs)):\n",
    "            output_eachneuron.append(np.dot(inputs[j], weights[i]) + biases)\n",
    "\n",
    "    # Flatten the output\n",
    "    outputs = np.array(output_eachneuron).flatten()\n",
    "\n",
    "    print(outputs)"
   ]
  },
  {
   "cell_type": "code",
   "execution_count": 5,
   "id": "7b1e69ca",
   "metadata": {},
   "outputs": [
    {
     "name": "stdout",
     "output_type": "stream",
     "text": [
      "[19.33302543 19.85473183 19.09270992 ... 19.49726644 19.37774469\n",
      " 19.07220034]\n",
      "Time required to run this calculation in a loop is: 315.9146318435669\n"
     ]
    }
   ],
   "source": [
    "st = time.time()\n",
    "weighted_sum(inputs, weights, bias)\n",
    "et = time.time()\n",
    "elapsedtime = et-st\n",
    "print(\"Time required to run this calculation in a loop is:\", elapsedtime)"
   ]
  },
  {
   "cell_type": "markdown",
   "id": "38a76f87",
   "metadata": {},
   "source": [
    "Here we can see that the computer takes 315 seconds to run this code, or approximately 5 minutes."
   ]
  },
  {
   "cell_type": "markdown",
   "id": "79c48c60",
   "metadata": {},
   "source": [
    "Now we are going to use Np.dot for Matrix vectorisation"
   ]
  },
  {
   "cell_type": "code",
   "execution_count": 12,
   "id": "bbf847ac",
   "metadata": {},
   "outputs": [],
   "source": [
    "def weighted_sum_vectorised(inputs, weights, biases):\n",
    "    weighted_sum_vectorised = np.dot(weights.T, inputs) + biases\n",
    "    print(weighted_sum_vectorised)"
   ]
  },
  {
   "cell_type": "code",
   "execution_count": 13,
   "id": "eb53b213",
   "metadata": {},
   "outputs": [
    {
     "name": "stdout",
     "output_type": "stream",
     "text": [
      "2511.8538840022484\n",
      "Time required to run this calculation with Matrix vectorisation is: 0.000997781753540039\n"
     ]
    }
   ],
   "source": [
    "st1 = time.time()\n",
    "weighted_sum_vectorised(inputs, weights, bias)\n",
    "et1 = time.time()\n",
    "elapsedtime1 = et1 - st1\n",
    "print(\"Time required to run this calculation with Matrix vectorisation is:\", elapsedtime1)"
   ]
  },
  {
   "cell_type": "markdown",
   "id": "247fe69c",
   "metadata": {},
   "source": [
    "Here, We can see that computer barely uses a second to perform the calculation"
   ]
  }
 ],
 "metadata": {
  "kernelspec": {
   "display_name": "Python 3 (ipykernel)",
   "language": "python",
   "name": "python3"
  },
  "language_info": {
   "codemirror_mode": {
    "name": "ipython",
    "version": 3
   },
   "file_extension": ".py",
   "mimetype": "text/x-python",
   "name": "python",
   "nbconvert_exporter": "python",
   "pygments_lexer": "ipython3",
   "version": "3.11.3"
  }
 },
 "nbformat": 4,
 "nbformat_minor": 5
}
